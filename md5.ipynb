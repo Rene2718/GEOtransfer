{
 "cells": [
  {
   "cell_type": "code",
   "execution_count": 84,
   "id": "b61a2592",
   "metadata": {},
   "outputs": [
    {
     "name": "stderr",
     "output_type": "stream",
     "text": [
      "/var/folders/l2/wqv877ys4072cj6jczcxysq4cbkzd0/T/ipykernel_11111/3144471637.py:9: FutureWarning: The frame.append method is deprecated and will be removed from pandas in a future version. Use pandas.concat instead.\n",
      "  md5=md5.append(ls,ignore_index=True)\n",
      "/var/folders/l2/wqv877ys4072cj6jczcxysq4cbkzd0/T/ipykernel_11111/3144471637.py:9: FutureWarning: The frame.append method is deprecated and will be removed from pandas in a future version. Use pandas.concat instead.\n",
      "  md5=md5.append(ls,ignore_index=True)\n"
     ]
    }
   ],
   "source": [
    "import pandas as pd\n",
    "import os\n",
    "import os, glob\n",
    "md5=pd.DataFrame()\n",
    "for filename in glob.glob('*.txt'):\n",
    "    with open(os.path.join(os.getcwd(), filename), 'r') as f:\n",
    "        content = pd.read_csv(f,sep='\\t')\n",
    "        ls= list(content)\n",
    "        md5=md5.append(ls,ignore_index=True)\n",
    "md5=md5[0].str.split(expand=True)  "
   ]
  }
 ],
 "metadata": {
  "kernelspec": {
   "display_name": "Python 3 (ipykernel)",
   "language": "python",
   "name": "python3"
  },
  "language_info": {
   "codemirror_mode": {
    "name": "ipython",
    "version": 3
   },
   "file_extension": ".py",
   "mimetype": "text/x-python",
   "name": "python",
   "nbconvert_exporter": "python",
   "pygments_lexer": "ipython3",
   "version": "3.8.12"
  }
 },
 "nbformat": 4,
 "nbformat_minor": 5
}
